{
 "cells": [
  {
   "cell_type": "code",
   "execution_count": 1,
   "id": "636da727",
   "metadata": {},
   "outputs": [
    {
     "name": "stderr",
     "output_type": "stream",
     "text": [
      "/run/media/john/Secondary/Projects/Hackathon/ai_agent_april_19/.venv/lib64/python3.11/site-packages/tqdm/auto.py:21: TqdmWarning: IProgress not found. Please update jupyter and ipywidgets. See https://ipywidgets.readthedocs.io/en/stable/user_install.html\n",
      "  from .autonotebook import tqdm as notebook_tqdm\n"
     ]
    }
   ],
   "source": [
    "from qwen import ToolAgent"
   ]
  },
  {
   "cell_type": "code",
   "execution_count": 2,
   "id": "b7341c92",
   "metadata": {},
   "outputs": [],
   "source": [
    "system = \"\"\"\n",
    "You are a planning assistant. You will be given a list of tasks and you will\n",
    "walk the user through the steps to complete them one by one, pausing after each\n",
    "step to wait for the user to confirm that they have completed the step. Do not\n",
    "be verbose, just a single sentence. Do not combine steps.\n",
    "\"\"\""
   ]
  },
  {
   "cell_type": "code",
   "execution_count": 3,
   "id": "c95e6efc",
   "metadata": {},
   "outputs": [
    {
     "name": "stderr",
     "output_type": "stream",
     "text": [
      "/run/media/john/Secondary/Projects/Hackathon/ai_agent_april_19/.venv/lib64/python3.11/site-packages/auto_gptq/nn_modules/triton_utils/kernels.py:410: FutureWarning: `torch.cuda.amp.custom_fwd(args...)` is deprecated. Please use `torch.amp.custom_fwd(args..., device_type='cuda')` instead.\n",
      "  @custom_fwd\n",
      "/run/media/john/Secondary/Projects/Hackathon/ai_agent_april_19/.venv/lib64/python3.11/site-packages/auto_gptq/nn_modules/triton_utils/kernels.py:418: FutureWarning: `torch.cuda.amp.custom_bwd(args...)` is deprecated. Please use `torch.amp.custom_bwd(args..., device_type='cuda')` instead.\n",
      "  @custom_bwd\n",
      "/run/media/john/Secondary/Projects/Hackathon/ai_agent_april_19/.venv/lib64/python3.11/site-packages/auto_gptq/nn_modules/triton_utils/kernels.py:461: FutureWarning: `torch.cuda.amp.custom_fwd(args...)` is deprecated. Please use `torch.amp.custom_fwd(args..., device_type='cuda')` instead.\n",
      "  @custom_fwd(cast_inputs=torch.float16)\n",
      "CUDA extension not installed.\n",
      "CUDA extension not installed.\n",
      "Sliding Window Attention is enabled but not implemented for `sdpa`; unexpected results may be encountered.\n",
      "`loss_type=None` was set in the config but it is unrecognised.Using the default loss: `ForCausalLMLoss`.\n"
     ]
    }
   ],
   "source": [
    "agent = ToolAgent(tools=[], system=system, stop_words=[\"</tool_call>\"])"
   ]
  },
  {
   "cell_type": "code",
   "execution_count": 4,
   "id": "5ddfcb39",
   "metadata": {},
   "outputs": [],
   "source": [
    "agent.reset()"
   ]
  },
  {
   "cell_type": "code",
   "execution_count": 5,
   "id": "be03d85e",
   "metadata": {},
   "outputs": [],
   "source": [
    "user_message = \"\"\"\n",
    "1. Locate the login button on the screen.\n",
    "2. Click the login button.\n",
    "3. Verify that you are redirected to the login screen.\n",
    "\"\"\""
   ]
  },
  {
   "cell_type": "code",
   "execution_count": 6,
   "id": "d5c37835",
   "metadata": {},
   "outputs": [
    {
     "name": "stdout",
     "output_type": "stream",
     "text": [
      "Output text: Go to the screen and find the login button, then click it.<|im_end|>\n",
      "Parsed output: {'role': 'assistant', 'content': 'Go to the screen and find the login button, then click it.'}\n"
     ]
    }
   ],
   "source": [
    "result = agent.run(user_message=user_message, recurse=3, preserve_history=True)"
   ]
  },
  {
   "cell_type": "code",
   "execution_count": 8,
   "id": "144a18c9",
   "metadata": {},
   "outputs": [],
   "source": [
    "user_message = \"\"\"\n",
    "I need to find the login button first. Let me try to locate it.\n",
    "The login button is located at coordinates (855, 510).\n",
    "The login button was successfully clicked.\n",
    "\"\"\""
   ]
  },
  {
   "cell_type": "code",
   "execution_count": 9,
   "id": "bf39a77b",
   "metadata": {},
   "outputs": [
    {
     "name": "stdout",
     "output_type": "stream",
     "text": [
      "Output text: Now that you've found the login button at (855, 510), please click it.<|im_end|>\n",
      "Parsed output: {'role': 'assistant', 'content': \"Now that you've found the login button at (855, 510), please click it.\"}\n"
     ]
    }
   ],
   "source": [
    "result = agent.run(user_message=user_message, recurse=3, preserve_history=True)"
   ]
  },
  {
   "cell_type": "code",
   "execution_count": 10,
   "id": "0512b4f8",
   "metadata": {},
   "outputs": [
    {
     "data": {
      "text/plain": [
       "{'role': 'assistant',\n",
       " 'content': \"Now that you've found the login button at (855, 510), please click it.\"}"
      ]
     },
     "execution_count": 10,
     "metadata": {},
     "output_type": "execute_result"
    }
   ],
   "source": [
    "result"
   ]
  },
  {
   "cell_type": "code",
   "execution_count": null,
   "id": "24c1570d",
   "metadata": {},
   "outputs": [],
   "source": []
  }
 ],
 "metadata": {
  "kernelspec": {
   "display_name": ".venv",
   "language": "python",
   "name": "python3"
  },
  "language_info": {
   "codemirror_mode": {
    "name": "ipython",
    "version": 3
   },
   "file_extension": ".py",
   "mimetype": "text/x-python",
   "name": "python",
   "nbconvert_exporter": "python",
   "pygments_lexer": "ipython3",
   "version": "3.11.11"
  }
 },
 "nbformat": 4,
 "nbformat_minor": 5
}
