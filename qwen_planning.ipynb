{
 "cells": [
  {
   "cell_type": "code",
   "execution_count": 1,
   "id": "5af83fae",
   "metadata": {},
   "outputs": [
    {
     "name": "stderr",
     "output_type": "stream",
     "text": [
      "/run/media/john/Secondary/Projects/Hackathon/ai_agent_april_19/.venv/lib64/python3.11/site-packages/tqdm/auto.py:21: TqdmWarning: IProgress not found. Please update jupyter and ipywidgets. See https://ipywidgets.readthedocs.io/en/stable/user_install.html\n",
      "  from .autonotebook import tqdm as notebook_tqdm\n"
     ]
    }
   ],
   "source": [
    "from qwen import ToolAgent"
   ]
  },
  {
   "cell_type": "code",
   "execution_count": 41,
   "id": "c6f41be2",
   "metadata": {},
   "outputs": [],
   "source": [
    "system = \"\"\"\n",
    "You are a planning assistant. You will be given a task and help plan the steps\n",
    "that accomplish it. Do not be too verbose. Assume browser is already opened\n",
    "and already navigated to the starting page of the task. Each step should be\n",
    "broken down into three parts: locating, acting, and verifying.\n",
    "\"\"\""
   ]
  },
  {
   "cell_type": "code",
   "execution_count": 42,
   "id": "e7c168ae",
   "metadata": {},
   "outputs": [
    {
     "name": "stderr",
     "output_type": "stream",
     "text": [
      "/run/media/john/Secondary/Projects/Hackathon/ai_agent_april_19/.venv/lib64/python3.11/site-packages/accelerate/utils/modeling.py:1569: UserWarning: Current model requires 842913920 bytes of buffer for offloaded layers, which seems does not fit any GPU's remaining memory. If you are experiencing a OOM later, please consider using offload_buffers=True.\n",
      "  warnings.warn(\n",
      "Some parameters are on the meta device because they were offloaded to the cpu.\n"
     ]
    }
   ],
   "source": [
    "agent = ToolAgent(tools=[], system=system, stop_words=[\"</tool_call>\"])"
   ]
  },
  {
   "cell_type": "code",
   "execution_count": 43,
   "id": "959e0930",
   "metadata": {},
   "outputs": [],
   "source": [
    "agent.reset()"
   ]
  },
  {
   "cell_type": "code",
   "execution_count": 44,
   "id": "9014e96b",
   "metadata": {},
   "outputs": [],
   "source": [
    "user_message = \"\"\"\n",
    "Theory: In the browser, at the starting screen we can find a login button.\n",
    "Clicking it works. We end up at the login screen.\n",
    "\"\"\""
   ]
  },
  {
   "cell_type": "code",
   "execution_count": 45,
   "id": "cf0b2f72",
   "metadata": {},
   "outputs": [
    {
     "name": "stdout",
     "output_type": "stream",
     "text": [
      "Output text: 1. Locate the login button on the screen.\n",
      "2. Click the login button.\n",
      "3. Verify that you are redirected to the login screen.<|im_end|>\n",
      "Parsed output: {'role': 'assistant', 'content': '1. Locate the login button on the screen.\\n2. Click the login button.\\n3. Verify that you are redirected to the login screen.'}\n"
     ]
    }
   ],
   "source": [
    "result = agent.run(user_message=user_message, recurse=3, preserve_history=True)"
   ]
  },
  {
   "cell_type": "code",
   "execution_count": 47,
   "id": "fc1aeef0",
   "metadata": {},
   "outputs": [
    {
     "data": {
      "text/plain": [
       "[{'role': 'system',\n",
       "  'content': '\\nYou are a planning assistant. You will be given a task and help plan the steps\\nthat accomplish it. Do not be too verbose. Assume browser is already opened\\nand already navigated to the starting page of the task. Each step should be\\nbroken down into three parts: locating, acting, and verifying.\\n'},\n",
       " {'role': 'user',\n",
       "  'content': '\\nTheory: In the browser, at the starting screen we can find a login button.\\nClicking it works. We end up at the login screen.\\n'},\n",
       " {'role': 'assistant',\n",
       "  'content': '1. Locate the login button on the screen.\\n2. Click the login button.\\n3. Verify that you are redirected to the login screen.'}]"
      ]
     },
     "execution_count": 47,
     "metadata": {},
     "output_type": "execute_result"
    }
   ],
   "source": [
    "agent.messages"
   ]
  },
  {
   "cell_type": "code",
   "execution_count": null,
   "id": "f0b2657a",
   "metadata": {},
   "outputs": [],
   "source": []
  }
 ],
 "metadata": {
  "kernelspec": {
   "display_name": ".venv",
   "language": "python",
   "name": "python3"
  },
  "language_info": {
   "codemirror_mode": {
    "name": "ipython",
    "version": 3
   },
   "file_extension": ".py",
   "mimetype": "text/x-python",
   "name": "python",
   "nbconvert_exporter": "python",
   "pygments_lexer": "ipython3",
   "version": "3.11.11"
  }
 },
 "nbformat": 4,
 "nbformat_minor": 5
}
