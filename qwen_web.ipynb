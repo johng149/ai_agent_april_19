{
 "cells": [
  {
   "cell_type": "code",
   "execution_count": 55,
   "id": "70a38a1b",
   "metadata": {},
   "outputs": [],
   "source": [
    "from qwen import ToolAgent\n",
    "import random"
   ]
  },
  {
   "cell_type": "code",
   "execution_count": 56,
   "id": "318146e2",
   "metadata": {},
   "outputs": [],
   "source": [
    "def find_element(description: str) -> tuple[int, int]:\n",
    "    \"\"\"\n",
    "    Find an element on a web page.\n",
    "\n",
    "    Args:\n",
    "        description: A description of the element to find.\n",
    "\n",
    "    Returns:\n",
    "        A tuple containing the x and y coordinates of the element.\n",
    "    \"\"\"\n",
    "    return random.randint(0, 1000), random.randint(0, 1000)\n",
    "\n",
    "def click(coordinates: tuple[int, int]) -> bool:\n",
    "    \"\"\"\n",
    "    Clicking on a web page, after clicking, will automatically wait for all\n",
    "    elements to load.\n",
    "\n",
    "    Args:\n",
    "        coordinates: A tuple containing the x and y coordinates to click.\n",
    "\n",
    "    Returns:\n",
    "        A boolean indicating whether the click was successful.\n",
    "    \"\"\"\n",
    "    return True\n",
    "\n",
    "def describe() -> str:\n",
    "    \"\"\"\n",
    "    Description of the current web page.\n",
    "\n",
    "    Returns:\n",
    "        A string representing the caption.\n",
    "    \"\"\"\n",
    "    # we are mocking so we'll just choose from a list of captions\n",
    "    captions = [\n",
    "        \"A login screen with a username and password field.\",\n",
    "        \"A search bar with a search button.\",\n",
    "        \"A product page for a new smartphone by Apple, its price is $999.\",\n",
    "        \"A news article about an Earthquake in California.\",\n",
    "    ]\n",
    "    return random.choice(captions)\n",
    "\n",
    "def theory_status(success: bool) -> bool:\n",
    "    \"\"\"\n",
    "    Log the theory status. This should be used at the very end.\n",
    "\n",
    "    Args:\n",
    "        success: A boolean indicating whether the theory was successful.\n",
    "    Returns:\n",
    "        A boolean indicating whether the logging was successful.\n",
    "    \"\"\"\n",
    "    return True\n",
    "\n",
    "tools = [\n",
    "    find_element,\n",
    "    click,\n",
    "    describe,\n",
    "    theory_status,\n",
    "]"
   ]
  },
  {
   "cell_type": "code",
   "execution_count": 57,
   "id": "f7e65a10",
   "metadata": {},
   "outputs": [],
   "source": [
    "system = \"\"\"\n",
    "You are an assistant with access to a headless browser. This means that\n",
    "only you can see the web page, and the user cannot. You can use the tools\n",
    "to interact with the web page. Do exactly what the user asks you to do,\n",
    "nothing more and nothing less. Tell the user what you intend to do\n",
    "and then do it, no need to ask for confirmation.\n",
    "Help complete the user's request by using the tools.\n",
    "\"\"\""
   ]
  },
  {
   "cell_type": "code",
   "execution_count": 58,
   "id": "76ee322f",
   "metadata": {},
   "outputs": [],
   "source": [
    "agent = ToolAgent(tools=tools, system=system, stop_words=[\"</tool_call>\"])"
   ]
  },
  {
   "cell_type": "code",
   "execution_count": 59,
   "id": "27f88bd5",
   "metadata": {},
   "outputs": [],
   "source": [
    "agent.reset()"
   ]
  },
  {
   "cell_type": "code",
   "execution_count": 60,
   "id": "eb7a8026",
   "metadata": {},
   "outputs": [],
   "source": [
    "user_message = \"\"\"\n",
    "Find and click the login button.\n",
    "\"\"\""
   ]
  },
  {
   "cell_type": "code",
   "execution_count": 61,
   "id": "7cc54429",
   "metadata": {},
   "outputs": [
    {
     "name": "stdout",
     "output_type": "stream",
     "text": [
      "Output text: <tool_call>\n",
      "{\"name\": \"describe\", \"arguments\": {}}\n",
      "</tool_call>\n",
      "Parsed output: {'role': 'assistant', 'content': '', 'tool_calls': [{'type': 'function', 'function': {'name': 'describe', 'arguments': {}}}]}\n",
      "Tool call result: {'role': 'tool', 'name': 'describe', 'content': 'A product page for a new smartphone by Apple, its price is $999.'}\n",
      "Output text: I need to find the login button first. Let me try to locate it.\n",
      "<tool_call>\n",
      "{\"name\": \"find_element\", \"arguments\": {\"description\": \"login button\"}}\n",
      "</tool_call>\n",
      "Parsed output: {'role': 'assistant', 'content': 'I need to find the login button first. Let me try to locate it.\\n', 'tool_calls': [{'type': 'function', 'function': {'name': 'find_element', 'arguments': {'description': 'login button'}}}]}\n",
      "Tool call result: {'role': 'tool', 'name': 'find_element', 'content': (855, 510)}\n",
      "Output text: The login button is located at coordinates (855, 510). \n",
      "\n",
      "<tool_call>\n",
      "{\"name\": \"click\", \"arguments\": {\"coordinates\": [855, 510]}}\n",
      "</tool_call>\n",
      "Parsed output: {'role': 'assistant', 'content': 'The login button is located at coordinates (855, 510). \\n\\n', 'tool_calls': [{'type': 'function', 'function': {'name': 'click', 'arguments': {'coordinates': [855, 510]}}}]}\n",
      "Tool call result: {'role': 'tool', 'name': 'click', 'content': True}\n",
      "Output text: The login button was successfully clicked. \n",
      "\n",
      "<tool_call>\n",
      "{\"name\": \"theory_status\", \"arguments\": {\"success\": true}}\n",
      "</tool_call>\n",
      "Parsed output: {'role': 'assistant', 'content': 'The login button was successfully clicked. \\n\\n', 'tool_calls': [{'type': 'function', 'function': {'name': 'theory_status', 'arguments': {'success': True}}}]}\n"
     ]
    }
   ],
   "source": [
    "result = agent.run(user_message=user_message, recurse=3, preserve_history=True)"
   ]
  },
  {
   "cell_type": "code",
   "execution_count": 64,
   "id": "2bc3641e",
   "metadata": {},
   "outputs": [
    {
     "data": {
      "text/plain": [
       "{'role': 'assistant',\n",
       " 'content': 'The login button was successfully clicked. \\n\\n',\n",
       " 'tool_calls': [{'type': 'function',\n",
       "   'function': {'name': 'theory_status', 'arguments': {'success': True}}}]}"
      ]
     },
     "execution_count": 64,
     "metadata": {},
     "output_type": "execute_result"
    }
   ],
   "source": [
    "result"
   ]
  },
  {
   "cell_type": "code",
   "execution_count": 65,
   "id": "6ede1091",
   "metadata": {},
   "outputs": [
    {
     "data": {
      "text/plain": [
       "[{'role': 'system',\n",
       "  'content': \"\\nYou are an assistant with access to a headless browser. This means that\\nonly you can see the web page, and the user cannot. You can use the tools\\nto interact with the web page. Do exactly what the user asks you to do,\\nnothing more and nothing less. Tell the user what you intend to do\\nand then do it, no need to ask for confirmation.\\nHelp complete the user's request by using the tools.\\n\"},\n",
       " {'role': 'user', 'content': '\\nFind and click the login button.\\n'},\n",
       " {'role': 'assistant',\n",
       "  'content': '',\n",
       "  'tool_calls': [{'type': 'function',\n",
       "    'function': {'name': 'describe', 'arguments': {}}}]},\n",
       " {'role': 'tool',\n",
       "  'name': 'describe',\n",
       "  'content': 'A product page for a new smartphone by Apple, its price is $999.'},\n",
       " {'role': 'assistant',\n",
       "  'content': 'I need to find the login button first. Let me try to locate it.\\n',\n",
       "  'tool_calls': [{'type': 'function',\n",
       "    'function': {'name': 'find_element',\n",
       "     'arguments': {'description': 'login button'}}}]},\n",
       " {'role': 'tool', 'name': 'find_element', 'content': (855, 510)},\n",
       " {'role': 'assistant',\n",
       "  'content': 'The login button is located at coordinates (855, 510). \\n\\n',\n",
       "  'tool_calls': [{'type': 'function',\n",
       "    'function': {'name': 'click', 'arguments': {'coordinates': [855, 510]}}}]},\n",
       " {'role': 'tool', 'name': 'click', 'content': True},\n",
       " {'role': 'assistant',\n",
       "  'content': 'The login button was successfully clicked. \\n\\n',\n",
       "  'tool_calls': [{'type': 'function',\n",
       "    'function': {'name': 'theory_status', 'arguments': {'success': True}}}]}]"
      ]
     },
     "execution_count": 65,
     "metadata": {},
     "output_type": "execute_result"
    }
   ],
   "source": [
    "agent.messages"
   ]
  },
  {
   "cell_type": "code",
   "execution_count": null,
   "id": "4d3dd9a2",
   "metadata": {},
   "outputs": [],
   "source": []
  }
 ],
 "metadata": {
  "kernelspec": {
   "display_name": ".venv",
   "language": "python",
   "name": "python3"
  },
  "language_info": {
   "codemirror_mode": {
    "name": "ipython",
    "version": 3
   },
   "file_extension": ".py",
   "mimetype": "text/x-python",
   "name": "python",
   "nbconvert_exporter": "python",
   "pygments_lexer": "ipython3",
   "version": "3.11.11"
  }
 },
 "nbformat": 4,
 "nbformat_minor": 5
}
