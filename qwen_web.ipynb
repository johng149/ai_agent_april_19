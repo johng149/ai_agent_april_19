{
 "cells": [
  {
   "cell_type": "code",
   "execution_count": 1,
   "id": "70a38a1b",
   "metadata": {},
   "outputs": [
    {
     "name": "stderr",
     "output_type": "stream",
     "text": [
      "/run/media/john/Secondary/Projects/Hackathon/ai_agent_april_19/.venv/lib64/python3.11/site-packages/tqdm/auto.py:21: TqdmWarning: IProgress not found. Please update jupyter and ipywidgets. See https://ipywidgets.readthedocs.io/en/stable/user_install.html\n",
      "  from .autonotebook import tqdm as notebook_tqdm\n"
     ]
    }
   ],
   "source": [
    "from qwen import ToolAgent\n",
    "import random"
   ]
  },
  {
   "cell_type": "code",
   "execution_count": 2,
   "id": "318146e2",
   "metadata": {},
   "outputs": [],
   "source": [
    "def find_element(description: str) -> tuple[int, int]:\n",
    "    \"\"\"\n",
    "    Find an element on a web page.\n",
    "\n",
    "    Args:\n",
    "        description: A description of the element to find.\n",
    "\n",
    "    Returns:\n",
    "        A tuple containing the x and y coordinates of the element.\n",
    "    \"\"\"\n",
    "    return random.randint(0, 1000), random.randint(0, 1000)\n",
    "\n",
    "def click(coordinates: tuple[int, int]) -> bool:\n",
    "    \"\"\"\n",
    "    Clicking on a web page, after clicking, will automatically wait for all\n",
    "    elements to load.\n",
    "\n",
    "    Args:\n",
    "        coordinates: A tuple containing the x and y coordinates to click.\n",
    "\n",
    "    Returns:\n",
    "        A boolean indicating whether the click was successful.\n",
    "    \"\"\"\n",
    "    return True\n",
    "\n",
    "def caption() -> str:\n",
    "    \"\"\"\n",
    "    Caption from current web page.\n",
    "\n",
    "    Returns:\n",
    "        A string representing the caption.\n",
    "    \"\"\"\n",
    "    # we are mocking so we'll just choose from a list of captions\n",
    "    captions = [\n",
    "        \"A login screen with a username and password field.\",\n",
    "        \"A search bar with a search button.\",\n",
    "        \"A product page for a new smartphone by Apple, its price is $999.\",\n",
    "        \"A news article about an Earthquake in California.\",\n",
    "    ]\n",
    "    return random.choice(captions)\n",
    "\n",
    "tools = [\n",
    "    find_element,\n",
    "    click,\n",
    "    caption,\n",
    "]"
   ]
  },
  {
   "cell_type": "code",
   "execution_count": 3,
   "id": "f7e65a10",
   "metadata": {},
   "outputs": [],
   "source": [
    "system = \"\"\"\n",
    "You are an assistant with access to a headless browser. This means that\n",
    "only you can see the web page, and the user cannot. You can use the tools\n",
    "to interact with the web page. Note that trying to use multiple tools\n",
    "at once will not work. You must wait for the previous tool to finish\n",
    "before using the next one.\n",
    "Help complete the user's request by using the tools.\n",
    "\"\"\""
   ]
  },
  {
   "cell_type": "code",
   "execution_count": 4,
   "id": "76ee322f",
   "metadata": {},
   "outputs": [
    {
     "name": "stderr",
     "output_type": "stream",
     "text": [
      "/run/media/john/Secondary/Projects/Hackathon/ai_agent_april_19/.venv/lib64/python3.11/site-packages/auto_gptq/nn_modules/triton_utils/kernels.py:410: FutureWarning: `torch.cuda.amp.custom_fwd(args...)` is deprecated. Please use `torch.amp.custom_fwd(args..., device_type='cuda')` instead.\n",
      "  @custom_fwd\n",
      "/run/media/john/Secondary/Projects/Hackathon/ai_agent_april_19/.venv/lib64/python3.11/site-packages/auto_gptq/nn_modules/triton_utils/kernels.py:418: FutureWarning: `torch.cuda.amp.custom_bwd(args...)` is deprecated. Please use `torch.amp.custom_bwd(args..., device_type='cuda')` instead.\n",
      "  @custom_bwd\n",
      "/run/media/john/Secondary/Projects/Hackathon/ai_agent_april_19/.venv/lib64/python3.11/site-packages/auto_gptq/nn_modules/triton_utils/kernels.py:461: FutureWarning: `torch.cuda.amp.custom_fwd(args...)` is deprecated. Please use `torch.amp.custom_fwd(args..., device_type='cuda')` instead.\n",
      "  @custom_fwd(cast_inputs=torch.float16)\n",
      "CUDA extension not installed.\n",
      "CUDA extension not installed.\n",
      "Sliding Window Attention is enabled but not implemented for `sdpa`; unexpected results may be encountered.\n",
      "`loss_type=None` was set in the config but it is unrecognised.Using the default loss: `ForCausalLMLoss`.\n"
     ]
    }
   ],
   "source": [
    "agent = ToolAgent(tools=tools, system=system, stop_words=[\"</tool_call>\"])"
   ]
  },
  {
   "cell_type": "code",
   "execution_count": 5,
   "id": "27f88bd5",
   "metadata": {},
   "outputs": [],
   "source": [
    "agent.reset()"
   ]
  },
  {
   "cell_type": "code",
   "execution_count": 6,
   "id": "7cc54429",
   "metadata": {},
   "outputs": [
    {
     "name": "stdout",
     "output_type": "stream",
     "text": [
      "Output text: <tool_call>\n",
      "{\"name\": \"find_element\", \"arguments\": {\"description\": \"login button\"}}\n",
      "</tool_call>\n",
      "Parsed output: {'role': 'assistant', 'content': '', 'tool_calls': [{'type': 'function', 'function': {'name': 'find_element', 'arguments': {'description': 'login button'}}}]}\n",
      "Tool call result: {'role': 'tool', 'name': 'find_element', 'content': (737, 248)}\n",
      "Output text: <tool_call>\n",
      "{\"name\": \"click\", \"arguments\": {\"coordinates\": [737, 248]}}\n",
      "</tool_call>\n",
      "Parsed output: {'role': 'assistant', 'content': '', 'tool_calls': [{'type': 'function', 'function': {'name': 'click', 'arguments': {'coordinates': [737, 248]}}}]}\n",
      "Tool call result: {'role': 'tool', 'name': 'click', 'content': True}\n",
      "Output text: It seems like you have successfully clicked the login button. What would you like to know next? Could you please ask a specific question about the action that occurred after clicking the login button?<|im_end|>\n",
      "Parsed output: {'role': 'assistant', 'content': 'It seems like you have successfully clicked the login button. What would you like to know next? Could you please ask a specific question about the action that occurred after clicking the login button?'}\n"
     ]
    }
   ],
   "source": [
    "result = agent.run(user_message=\"Click the login button and tell me what ends up happening\", recurse=3, preserve_history=True)"
   ]
  },
  {
   "cell_type": "code",
   "execution_count": 7,
   "id": "2bc3641e",
   "metadata": {},
   "outputs": [
    {
     "data": {
      "text/plain": [
       "{'role': 'assistant',\n",
       " 'content': 'It seems like you have successfully clicked the login button. What would you like to know next? Could you please ask a specific question about the action that occurred after clicking the login button?'}"
      ]
     },
     "execution_count": 7,
     "metadata": {},
     "output_type": "execute_result"
    }
   ],
   "source": [
    "result"
   ]
  },
  {
   "cell_type": "code",
   "execution_count": 8,
   "id": "6ede1091",
   "metadata": {},
   "outputs": [
    {
     "data": {
      "text/plain": [
       "[{'role': 'system',\n",
       "  'content': \"\\nYou are an assistant with access to a headless browser. This means that\\nonly you can see the web page, and the user cannot. You can use the tools\\nto interact with the web page. Note that trying to use multiple tools\\nat once will not work. You must wait for the previous tool to finish\\nbefore using the next one.\\nHelp complete the user's request by using the tools.\\n\"},\n",
       " {'role': 'user',\n",
       "  'content': 'Click the login button and tell me what ends up happening'},\n",
       " {'role': 'assistant',\n",
       "  'content': '',\n",
       "  'tool_calls': [{'type': 'function',\n",
       "    'function': {'name': 'find_element',\n",
       "     'arguments': {'description': 'login button'}}}]},\n",
       " {'role': 'tool', 'name': 'find_element', 'content': (737, 248)},\n",
       " {'role': 'assistant',\n",
       "  'content': '',\n",
       "  'tool_calls': [{'type': 'function',\n",
       "    'function': {'name': 'click', 'arguments': {'coordinates': [737, 248]}}}]},\n",
       " {'role': 'tool', 'name': 'click', 'content': True},\n",
       " {'role': 'assistant',\n",
       "  'content': 'It seems like you have successfully clicked the login button. What would you like to know next? Could you please ask a specific question about the action that occurred after clicking the login button?'}]"
      ]
     },
     "execution_count": 8,
     "metadata": {},
     "output_type": "execute_result"
    }
   ],
   "source": [
    "agent.messages"
   ]
  },
  {
   "cell_type": "code",
   "execution_count": null,
   "id": "4d3dd9a2",
   "metadata": {},
   "outputs": [],
   "source": []
  }
 ],
 "metadata": {
  "kernelspec": {
   "display_name": ".venv",
   "language": "python",
   "name": "python3"
  },
  "language_info": {
   "codemirror_mode": {
    "name": "ipython",
    "version": 3
   },
   "file_extension": ".py",
   "mimetype": "text/x-python",
   "name": "python",
   "nbconvert_exporter": "python",
   "pygments_lexer": "ipython3",
   "version": "3.11.11"
  }
 },
 "nbformat": 4,
 "nbformat_minor": 5
}
